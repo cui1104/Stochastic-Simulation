{
 "cells": [
  {
   "cell_type": "code",
   "execution_count": 2,
   "id": "6afcf0b4",
   "metadata": {},
   "outputs": [],
   "source": [
    "import numpy as np\n",
    "import numpy.random as rnd\n",
    "import math"
   ]
  },
  {
   "cell_type": "markdown",
   "id": "98cbe684",
   "metadata": {},
   "source": [
    "Question 3"
   ]
  },
  {
   "cell_type": "code",
   "execution_count": 3,
   "id": "438da3bc",
   "metadata": {},
   "outputs": [
    {
     "name": "stdout",
     "output_type": "stream",
     "text": [
      "another round of simulation\n",
      "estimate is:\t 0.015537875537660954\n",
      "upper bound of CI is:\t 0.015543848699927223\n",
      "lower bound of CI is:\t 0.015531902375394684\n"
     ]
    }
   ],
   "source": [
    "mu = 0.1\n",
    "sigma2 = 0.5\n",
    "\n",
    "time = 10**3\n",
    "R = 10**6\n",
    "\n",
    "alist = np.full(R, True)\n",
    "Sn = np.zeros(R)\n",
    "lhr = np.ones(R) # likelihood ratio \n",
    "\n",
    "for n in range(1,time+1):\n",
    "    # simulation from proposal distribution\n",
    "    Xn = np.random.normal(mu,np.sqrt(sigma2),R)\n",
    "    Sn += Xn\n",
    "    \n",
    "    greater = (Sn>10) & alist\n",
    "    \n",
    "    lhr[greater] = np.exp(-(2/5)*Sn[greater]) #likelihood ratio\n",
    "    \n",
    "    alist[greater] = 0\n",
    "    if np.sum(alist) == 0:\n",
    "        break\n",
    "\n",
    "if n == time:\n",
    "    print(\"another round of simulation\")\n",
    "        \n",
    "output = lhr\n",
    "esthat = output.mean()\n",
    "print(f\"estimate is:\\t {esthat}\")\n",
    "print(f\"upper bound of CI is:\\t {esthat+(1.96*output.std()/np.sqrt(R))}\")\n",
    "print(f\"lower bound of CI is:\\t {esthat-(1.96*output.std()/np.sqrt(R))}\")"
   ]
  },
  {
   "cell_type": "markdown",
   "id": "ac961ad1",
   "metadata": {},
   "source": [
    "Question 4"
   ]
  },
  {
   "cell_type": "code",
   "execution_count": 4,
   "id": "d42e1a4c",
   "metadata": {},
   "outputs": [
    {
     "name": "stdout",
     "output_type": "stream",
     "text": [
      "estimate is:\t 0.01072808526716056\n"
     ]
    }
   ],
   "source": [
    "mustar = (1+np.sqrt(13))/2\n",
    "lmdstar = (7-np.sqrt(13))/2\n",
    "\n",
    "time = 10**3\n",
    "R = 10**6\n",
    "\n",
    "alist = np.full(R, True)\n",
    "Rn = np.zeros(R)\n",
    "lhr = np.ones(R) # likelihood ratio \n",
    "\n",
    "for n in range(1,time+1):\n",
    "    # simulation from proposal distribution\n",
    "    ser1 = rnd.exponential(1/mustar,R)\n",
    "    ser2 = rnd.exponential(1/mustar,R)\n",
    "    interarr = rnd.exponential(1/lmdstar,R)\n",
    "    deltan = ser1 + ser2 - interarr\n",
    "    Rn += deltan\n",
    "    \n",
    "    greater = (Rn>6) & alist\n",
    "    \n",
    "    lhr[greater] = np.exp(-((5-np.sqrt(13))/2)*Rn[greater]) #likelihood ratio\n",
    "    \n",
    "    alist[greater] = 0\n",
    "    if np.sum(alist) == 0:\n",
    "        break\n",
    "\n",
    "if n == time:\n",
    "    print(\"another round of simulation\")\n",
    "        \n",
    "output = lhr\n",
    "esthat = output.mean()\n",
    "print(f\"estimate is:\\t {esthat}\")"
   ]
  },
  {
   "cell_type": "code",
   "execution_count": null,
   "id": "601caab7",
   "metadata": {},
   "outputs": [],
   "source": []
  }
 ],
 "metadata": {
  "kernelspec": {
   "display_name": "Python 3",
   "language": "python",
   "name": "python3"
  },
  "language_info": {
   "codemirror_mode": {
    "name": "ipython",
    "version": 3
   },
   "file_extension": ".py",
   "mimetype": "text/x-python",
   "name": "python",
   "nbconvert_exporter": "python",
   "pygments_lexer": "ipython3",
   "version": "3.8.8"
  }
 },
 "nbformat": 4,
 "nbformat_minor": 5
}
